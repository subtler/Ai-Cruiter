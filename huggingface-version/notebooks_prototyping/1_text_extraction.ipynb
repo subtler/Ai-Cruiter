{
 "cells": [
  {
   "cell_type": "markdown",
   "id": "8277ee6a-741d-4c2e-8b92-60e292462773",
   "metadata": {},
   "source": [
    "## Block 2: extract_text(file_path)"
   ]
  },
  {
   "cell_type": "code",
   "execution_count": 19,
   "id": "1d06c97d-9df4-4e06-954c-2f42649b1775",
   "metadata": {},
   "outputs": [],
   "source": [
    "# ✅ Core imports for resume file reading and text extraction\n",
    "import os\n",
    "import textract\n",
    "from PyPDF2 import PdfReader\n",
    "import docx"
   ]
  },
  {
   "cell_type": "code",
   "execution_count": 20,
   "id": "8ac313b5-3ede-40dd-8128-0081c85fda40",
   "metadata": {},
   "outputs": [],
   "source": [
    "# ✅ Main function to extract text based on file extension\n",
    "def extract_text(file_path):\n",
    "    \"\"\"\n",
    "    Extracts plain text from a given resume file (.pdf or .docx).\n",
    "    Returns the extracted text as a string.\n",
    "    \"\"\"\n",
    "    ext = os.path.splitext(file_path)[-1].lower()\n",
    "\n",
    "    if ext == '.pdf':\n",
    "        return extract_from_pdf(file_path)\n",
    "    elif ext == '.docx':\n",
    "        return extract_from_docx(file_path)\n",
    "    else:\n",
    "        raise ValueError(f\"Unsupported file type: {ext}\")"
   ]
  },
  {
   "cell_type": "markdown",
   "id": "d4d450b1-7110-4641-9a12-61a31c6a60f3",
   "metadata": {},
   "source": [
    "## Block 3 & 4: PDF and DOCX extractors"
   ]
  },
  {
   "cell_type": "code",
   "execution_count": 21,
   "id": "630d7a35-61bb-4d6f-ad3f-5c1929b954f3",
   "metadata": {},
   "outputs": [],
   "source": [
    "# ✅ Extract text from PDF files using PyPDF2\n",
    "def extract_from_pdf(file_path):\n",
    "    \"\"\"\n",
    "    Extracts text from a PDF using PyPDF2, one page at a time.\n",
    "    \"\"\"\n",
    "    try:\n",
    "        reader = PdfReader(file_path)\n",
    "        text = ''\n",
    "        for page in reader.pages:\n",
    "            text += page.extract_text() or ''\n",
    "        return text.strip()\n",
    "    except Exception as e:\n",
    "        print(f\"[ERROR] PDF parsing failed: {e}\")\n",
    "        return \"\""
   ]
  },
  {
   "cell_type": "code",
   "execution_count": 22,
   "id": "bc2568e2-42eb-4bb0-92a5-279bcf7ef4e0",
   "metadata": {},
   "outputs": [],
   "source": [
    "# ✅ Extract text from DOCX files using python-docx\n",
    "def extract_from_docx(file_path):\n",
    "    \"\"\"\n",
    "    Extracts text from a DOCX file by reading all paragraphs.\n",
    "    \"\"\"\n",
    "    try:\n",
    "        doc = docx.Document(file_path)\n",
    "        return \"\\n\".join([para.text for para in doc.paragraphs])\n",
    "    except Exception as e:\n",
    "        print(f\"[ERROR] DOCX parsing failed: {e}\")\n",
    "        return \"\""
   ]
  },
  {
   "cell_type": "code",
   "execution_count": 23,
   "id": "4dba62be-64fb-4ae9-82f0-c164f02a5ac6",
   "metadata": {},
   "outputs": [],
   "source": [
    "##Block 5: extract_with_textract\n",
    "\n",
    "# ✅ Fallback: Textract handles many file types and OCR \n",
    "def extract_with_textract(file_path):\n",
    "    \"\"\"\n",
    "    Uses textract to extract text from any file (supports OCR).\n",
    "    \"\"\"\n",
    "    try:\n",
    "        return textract.process(file_path).decode('utf-8')\n",
    "    except Exception as e:\n",
    "        print(f\"[ERROR] Textract failed: {e}\")\n",
    "        return \"\""
   ]
  },
  {
   "cell_type": "markdown",
   "id": "2858d207-75cb-43aa-95f2-2031329ebf49",
   "metadata": {},
   "source": [
    "## Block 6: Dynamic Resume Loader"
   ]
  },
  {
   "cell_type": "code",
   "execution_count": 24,
   "id": "3c3bd0ca-6922-496f-a968-123e3ec88b7c",
   "metadata": {},
   "outputs": [
    {
     "name": "stdout",
     "output_type": "stream",
     "text": [
      "✅ Found 24 sample resumes from 25 domains\n",
      "🧾 Preview from: ../data/raw_resumes/resume-dataset/data/data/AGRICULTURE/10953078.pdf\n",
      "\n",
      "----------------------------------------\n",
      "RN STAFF NURSE\n",
      "Professional Experience\n",
      "RN Staff Nurse\n",
      " \n",
      "August 2008\n",
      " \n",
      "to \n",
      "April 2014\n",
      " \n",
      "Company Name\n",
      " \n",
      "ï¼​ \n",
      "City\n",
      " \n",
      ", \n",
      "State\n",
      "Participate in multidisciplinary plan of care.\n",
      "Follow Best Practice Protocols, Evidence based practice as well as patient-centered and team-based care.\n",
      "Identify barriers to successful treatment and share with team.\n",
      "Monitor,measure and report/document progress of interventions and outcomes.\n",
      "Timely and effective communication of newly implemented changes to unit based methods of practice.\n",
      "Accomplishments Management of Aggressive Behavior (MOAB) in house Certified Instructor, Patient Experience Champion, Shared\n",
      "Governance Chair of Policy & Procedure Committee, Oncology Certification, Implementation of unit Bedside Report and hourly rounding.\n",
      "Skills Used Therapeutic touch/communication, teach back communication,assessments, IV care, telemetry care, wound care including\n",
      "wound vacs, dressing changes.\n",
      "Age-based plan of care.\n",
      "Excellent organizational skills.\n",
      "Collaborative \n"
     ]
    }
   ],
   "source": [
    "import os\n",
    "\n",
    "# Base folder where all domain folders are stored\n",
    "base_resume_dir = '../data/raw_resumes/resume-dataset/data/data/'\n",
    "\n",
    "# Walk through each domain folder\n",
    "domain_resume_paths = []\n",
    "\n",
    "for domain in os.listdir(base_resume_dir):\n",
    "    domain_path = os.path.join(base_resume_dir, domain)\n",
    "    if os.path.isdir(domain_path):\n",
    "        # ✅ Sort file names alphabetically for consistent output\n",
    "        pdfs = sorted([f for f in os.listdir(domain_path) if f.endswith('.pdf')])\n",
    "        if pdfs:\n",
    "            domain_resume_paths.append(os.path.join(domain_path, pdfs[0]))\n",
    "\n",
    "# Preview what you found\n",
    "print(f\"✅ Found {len(domain_resume_paths)} sample resumes from {len(os.listdir(base_resume_dir))} domains\")\n",
    "\n",
    "# Extract text from the first resume found\n",
    "if domain_resume_paths:\n",
    "    text = extract_text(domain_resume_paths[0])\n",
    "    print(f\"🧾 Preview from: {domain_resume_paths[0]}\")\n",
    "    print(\"\\n\" + \"-\"*40)\n",
    "    print(text[:1000])\n",
    "else:\n",
    "    print(\"No resumes found across domains.\")\n",
    "\n",
    "#Automatically walks through 25 domains\n",
    "#Picks 1 PDF per domain for testing\n",
    "#Handles missing or empty folders\n",
    "#Displays count and file path clearly"
   ]
  },
  {
   "cell_type": "code",
   "execution_count": 26,
   "id": "cdd90bbb-aa97-4234-8931-7f8c577cdfa5",
   "metadata": {},
   "outputs": [
    {
     "name": "stdout",
     "output_type": "stream",
     "text": [
      "✅ Resume text saved to: ../data/parsed_output/sample_resume.txt\n"
     ]
    }
   ],
   "source": [
    "# ✅ Save the last extracted resume's text to a file for parsing\n",
    "output_path = '../data/parsed_output/sample_resume.txt'\n",
    "os.makedirs(os.path.dirname(output_path), exist_ok=True)\n",
    "\n",
    "with open(output_path, \"w\", encoding=\"utf-8\") as f:\n",
    "    f.write(text)\n",
    "\n",
    "print(f\"✅ Resume text saved to: {output_path}\")"
   ]
  },
  {
   "cell_type": "code",
   "execution_count": null,
   "id": "5ca17664-24a2-4e68-84d8-bcf8614c0478",
   "metadata": {},
   "outputs": [],
   "source": []
  }
 ],
 "metadata": {
  "kernelspec": {
   "display_name": "Python (ai_env)",
   "language": "python",
   "name": "ai_env"
  },
  "language_info": {
   "codemirror_mode": {
    "name": "ipython",
    "version": 3
   },
   "file_extension": ".py",
   "mimetype": "text/x-python",
   "name": "python",
   "nbconvert_exporter": "python",
   "pygments_lexer": "ipython3",
   "version": "3.11.11"
  }
 },
 "nbformat": 4,
 "nbformat_minor": 5
}
