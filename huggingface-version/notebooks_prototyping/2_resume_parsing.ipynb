{
 "cells": [
  {
   "cell_type": "code",
   "execution_count": 63,
   "id": "cc855ea0-c223-4278-8c15-3b887e5d21be",
   "metadata": {},
   "outputs": [],
   "source": [
    "with open('../data/parsed_output/sample_resume.txt', 'r', encoding='utf-8') as f:\n",
    "    resume_text = f.read()"
   ]
  },
  {
   "cell_type": "code",
   "execution_count": 64,
   "id": "81d268a2-dd13-4dba-a89b-05d461b8d761",
   "metadata": {},
   "outputs": [
    {
     "name": "stdout",
     "output_type": "stream",
     "text": [
      "True\n"
     ]
    }
   ],
   "source": [
    "import os\n",
    "print(os.path.exists('../data/parsed_output/sample_resume.txt'))"
   ]
  },
  {
   "cell_type": "markdown",
   "id": "45700107-26e4-48d3-bd6c-de0c3c14cb0c",
   "metadata": {},
   "source": [
    "## Block 1: Import libraries"
   ]
  },
  {
   "cell_type": "code",
   "execution_count": 65,
   "id": "17f36a29-f2da-4b2a-b666-f28e0823e6de",
   "metadata": {},
   "outputs": [],
   "source": [
    "import re\n",
    "import spacy\n",
    "from transformers import pipeline\n",
    "\n",
    "# ✅ Domain-specific skills dictionary\n",
    "DOMAIN_SKILLS = {\n",
    "    \"IT\": [\"python\", \"sql\", \"docker\", \"aws\", \"pytorch\", \"javascript\", \"agile\"],\n",
    "    \"Accounting\": [\"quickbooks\", \"audit\", \"tally\", \"reconciliation\", \"ledger\", \"gaap\"],\n",
    "    \"Education\": [\"lesson planning\", \"curriculum\", \"classroom management\"],\n",
    "    \"Healthcare\": [\"patient care\", \"emr\", \"icu\", \"diagnostics\", \"nursing\"],\n",
    "    \"HR\": [\"recruitment\", \"onboarding\", \"payroll\", \"compliance\", \"employee relations\"],\n",
    "    \"Sales\": [\"crm\", \"negotiation\", \"lead generation\", \"branding\"]\n",
    "}"
   ]
  },
  {
   "cell_type": "markdown",
   "id": "65d3f180-85f5-41b1-8035-627ab9c42bfe",
   "metadata": {},
   "source": [
    "## Block 2: Load spaCy model"
   ]
  },
  {
   "cell_type": "code",
   "execution_count": 66,
   "id": "53dd8ae4-43a7-49e3-bd48-5a01a251510a",
   "metadata": {},
   "outputs": [],
   "source": [
    "nlp = spacy.load(\"en_core_web_sm\")"
   ]
  },
  {
   "cell_type": "markdown",
   "id": "4e7f7911-a80a-48dc-8cf0-3a7b32884138",
   "metadata": {},
   "source": [
    "## Block 3: Extract email"
   ]
  },
  {
   "cell_type": "code",
   "execution_count": 67,
   "id": "0d93761f-21a9-43d6-99a9-92dc9e9b7632",
   "metadata": {},
   "outputs": [],
   "source": [
    "def extract_email(text):\n",
    "    pattern = re.compile(r'[a-zA-Z0-9._%+-]+@[a-zA-Z0-9.-]+\\.[a-zA-Z]{2,}')\n",
    "    matches = pattern.findall(text)\n",
    "    return matches[0] if matches else None"
   ]
  },
  {
   "cell_type": "markdown",
   "id": "c5a3af17-eb97-4cef-ac79-a7a9507278f6",
   "metadata": {},
   "source": [
    "## Block 4: Phone Extraction"
   ]
  },
  {
   "cell_type": "code",
   "execution_count": 68,
   "id": "81778c4d-e987-4f63-a421-91d5bff754aa",
   "metadata": {},
   "outputs": [],
   "source": [
    "def extract_phone(text):\n",
    "    pattern = re.compile(r'(\\+91[\\-\\s]?)?[6-9]\\d{9}')\n",
    "    matches = pattern.findall(text)\n",
    "    for match in matches:\n",
    "        cleaned = re.sub(r'\\D', '', match)\n",
    "        if 10 <= len(cleaned) <= 13:\n",
    "            return match.strip()\n",
    "    return None"
   ]
  },
  {
   "cell_type": "markdown",
   "id": "39a7e3d6-d9c5-4ce4-ac8e-fd2adf524f5d",
   "metadata": {},
   "source": [
    "## Block 5: Name Extraction(SpaCy + HuggingFace fallback)"
   ]
  },
  {
   "cell_type": "code",
   "execution_count": 69,
   "id": "88e88363-8902-4fa6-924f-da25d9949e71",
   "metadata": {},
   "outputs": [
    {
     "name": "stderr",
     "output_type": "stream",
     "text": [
      "Some weights of the model checkpoint at dslim/bert-base-NER were not used when initializing BertForTokenClassification: ['bert.pooler.dense.bias', 'bert.pooler.dense.weight']\n",
      "- This IS expected if you are initializing BertForTokenClassification from the checkpoint of a model trained on another task or with another architecture (e.g. initializing a BertForSequenceClassification model from a BertForPreTraining model).\n",
      "- This IS NOT expected if you are initializing BertForTokenClassification from the checkpoint of a model that you expect to be exactly identical (initializing a BertForSequenceClassification model from a BertForSequenceClassification model).\n",
      "Device set to use mps:0\n",
      "/opt/anaconda3/envs/ai_env/lib/python3.11/site-packages/transformers/pipelines/token_classification.py:170: UserWarning: `grouped_entities` is deprecated and will be removed in version v5.0.0, defaulted to `aggregation_strategy=\"AggregationStrategy.SIMPLE\"` instead.\n",
      "  warnings.warn(\n"
     ]
    }
   ],
   "source": [
    "def extract_name(text):\n",
    "    doc = nlp(text)\n",
    "    for ent in doc.ents:\n",
    "        if ent.label_ == \"PERSON\":\n",
    "            if ent.text.lower() not in [\"resume\", \"cv\", \"curriculum vitae\", \"mission statement\"]:\n",
    "                return ent.text\n",
    "    return None\n",
    "\n",
    "# HuggingFace NER fallback\n",
    "try:\n",
    "    ner_model = pipeline(\"ner\", model=\"dslim/bert-base-NER\", grouped_entities=True)\n",
    "except Exception as e:\n",
    "    print(\"⚠️ HuggingFace NER failed to load:\", e)\n",
    "    ner_model = None\n",
    "\n",
    "def extract_name_bert(text):\n",
    "    if not ner_model:\n",
    "        return None\n",
    "    entities = ner_model(text[:512])\n",
    "    for ent in entities:\n",
    "        if ent['entity_group'] == \"PER\":\n",
    "            return ent['word']\n",
    "    return None"
   ]
  },
  {
   "cell_type": "markdown",
   "id": "33777df2-c933-4ef0-afa5-1b007a01a3a0",
   "metadata": {},
   "source": [
    "## Block 6: Extract Skills (Domain-aware version)"
   ]
  },
  {
   "cell_type": "code",
   "execution_count": 70,
   "id": "105889be-97d8-4164-9a35-d0bdcf27d6d9",
   "metadata": {},
   "outputs": [],
   "source": [
    "def extract_skills(text, domain=\"IT\"):  # Default domain is IT\n",
    "    text = text.lower()\n",
    "    keywords = DOMAIN_SKILLS.get(domain, [])\n",
    "    found_skills = []\n",
    "    \n",
    "    for skill in keywords:\n",
    "        if re.search(rf'\\b{re.escape(skill.lower())}\\b', text):\n",
    "            found_skills.append(skill)\n",
    "\n",
    "    return list(set(found_skills))"
   ]
  },
  {
   "cell_type": "markdown",
   "id": "bbb80d83-c60f-48a4-b76c-8783694a8a41",
   "metadata": {},
   "source": [
    "## Block 8: Parse Resume"
   ]
  },
  {
   "cell_type": "code",
   "execution_count": 71,
   "id": "ec446d97-e66d-4695-aee6-629e8a039ca2",
   "metadata": {},
   "outputs": [],
   "source": [
    "def parse_resume(text, domain=\"IT\"):\n",
    "    return {\n",
    "        \"Name\": extract_name(text) or extract_name_bert(text) or \"[Not found]\",\n",
    "        \"Email\": extract_email(text) or \"[Not found]\",\n",
    "        \"Phone\": extract_phone(text) or \"[Not found]\",\n",
    "        \"Skills\": extract_skills(text, domain)\n",
    "    }"
   ]
  },
  {
   "cell_type": "markdown",
   "id": "a39f1860-9199-48fb-ab7c-3a3b2d0ac1ab",
   "metadata": {},
   "source": [
    "## Block 9: Run + View Result"
   ]
  },
  {
   "cell_type": "code",
   "execution_count": 72,
   "id": "a42a4514-7cfb-42dd-bd43-69280a533a87",
   "metadata": {},
   "outputs": [
    {
     "data": {
      "text/html": [
       "<div>\n",
       "<style scoped>\n",
       "    .dataframe tbody tr th:only-of-type {\n",
       "        vertical-align: middle;\n",
       "    }\n",
       "\n",
       "    .dataframe tbody tr th {\n",
       "        vertical-align: top;\n",
       "    }\n",
       "\n",
       "    .dataframe thead th {\n",
       "        text-align: right;\n",
       "    }\n",
       "</style>\n",
       "<table border=\"1\" class=\"dataframe\">\n",
       "  <thead>\n",
       "    <tr style=\"text-align: right;\">\n",
       "      <th></th>\n",
       "      <th>Name</th>\n",
       "      <th>Email</th>\n",
       "      <th>Phone</th>\n",
       "      <th>Skills</th>\n",
       "    </tr>\n",
       "  </thead>\n",
       "  <tbody>\n",
       "    <tr>\n",
       "      <th>0</th>\n",
       "      <td>Accomplishments Created</td>\n",
       "      <td>[Not found]</td>\n",
       "      <td>[Not found]</td>\n",
       "      <td>[]</td>\n",
       "    </tr>\n",
       "  </tbody>\n",
       "</table>\n",
       "</div>"
      ],
      "text/plain": [
       "                      Name        Email        Phone Skills\n",
       "0  Accomplishments Created  [Not found]  [Not found]     []"
      ]
     },
     "execution_count": 72,
     "metadata": {},
     "output_type": "execute_result"
    }
   ],
   "source": [
    "parsed_data = parse_resume(resume_text, domain=\"IT\")  # Change domain here\n",
    "import pandas as pd\n",
    "pd.DataFrame([parsed_data])"
   ]
  },
  {
   "cell_type": "code",
   "execution_count": 73,
   "id": "19f80ed3-b8a2-448e-9cce-f6d8cfa6c20f",
   "metadata": {},
   "outputs": [
    {
     "data": {
      "text/plain": [
       "{'Name': 'Accomplishments Created',\n",
       " 'Email': '[Not found]',\n",
       " 'Phone': '[Not found]',\n",
       " 'Skills': []}"
      ]
     },
     "execution_count": 73,
     "metadata": {},
     "output_type": "execute_result"
    }
   ],
   "source": [
    "parsed_data"
   ]
  },
  {
   "cell_type": "code",
   "execution_count": null,
   "id": "672c6425-f0bf-49c6-8f30-29c39119ccf1",
   "metadata": {},
   "outputs": [],
   "source": []
  },
  {
   "cell_type": "code",
   "execution_count": null,
   "id": "a4f5d048-7cdf-4074-b919-d4bdea37a30f",
   "metadata": {},
   "outputs": [],
   "source": []
  }
 ],
 "metadata": {
  "kernelspec": {
   "display_name": "Python (ai_env)",
   "language": "python",
   "name": "ai_env"
  },
  "language_info": {
   "codemirror_mode": {
    "name": "ipython",
    "version": 3
   },
   "file_extension": ".py",
   "mimetype": "text/x-python",
   "name": "python",
   "nbconvert_exporter": "python",
   "pygments_lexer": "ipython3",
   "version": "3.11.11"
  }
 },
 "nbformat": 4,
 "nbformat_minor": 5
}
