{
 "cells": [
  {
   "cell_type": "markdown",
   "id": "0db141a8-e94e-4321-be49-4a7ff917b919",
   "metadata": {},
   "source": [
    "# base version"
   ]
  },
  {
   "cell_type": "code",
   "execution_count": null,
   "id": "d74cde7c-621c-4a75-a51c-376e28e1d4a4",
   "metadata": {},
   "outputs": [],
   "source": [
    "import os\n",
    "import streamlit as st\n",
    "from pinecone import Pinecone\n",
    "from langchain_pinecone import PineconeVectorStore\n",
    "from langchain_huggingface import HuggingFaceEmbeddings, HuggingFacePipeline\n",
    "from transformers import AutoTokenizer, AutoModelForSeq2SeqLM, pipeline\n",
    "from langchain.chains import RetrievalQA\n",
    "\n",
    "# Setup\n",
    "os.environ[\"PINECONE_API_KEY\"] = \"pcsk_6ANMxB_NBF6TZziCKrn6kWNDskfdQzUj5GU7AJYtFWkWwsRefuXBdrJxRSxrvRe1Y2Nbi2\"\n",
    "pc = Pinecone()\n",
    "index_name = \"resume-index\"\n",
    "\n",
    "# Embeddings + Vectorstore\n",
    "embedding_model = HuggingFaceEmbeddings(model_name=\"all-MiniLM-L6-v2\")\n",
    "vectorstore = PineconeVectorStore(index_name=index_name, embedding=embedding_model)\n",
    "\n",
    "# LLM pipeline\n",
    "model_name = \"google/flan-t5-base\"\n",
    "tokenizer = AutoTokenizer.from_pretrained(model_name)\n",
    "model = AutoModelForSeq2SeqLM.from_pretrained(model_name)\n",
    "pipe = pipeline(\"text2text-generation\", model=model, tokenizer=tokenizer, max_length=256)\n",
    "llm = HuggingFacePipeline(pipeline=pipe)\n",
    "\n",
    "# Retrieval chain\n",
    "retriever = vectorstore.as_retriever()\n",
    "qa_chain = RetrievalQA.from_chain_type(llm=llm, retriever=retriever, return_source_documents=True, chain_type=\"stuff\")\n",
    "\n",
    "# --- Streamlit UI ---\n",
    "st.set_page_config(page_title=\"AI Resume Matcher\", page_icon=\"🧠\")\n",
    "st.title(\"🧠 AI Resume Matcher with HuggingFace + Pinecone\")\n",
    "\n",
    "query = st.text_input(\"Enter a skill, tool, or experience to search resumes:\")\n",
    "\n",
    "if query:\n",
    "    response = qa_chain.invoke({\"query\": query})\n",
    "    st.markdown(\"### 🤖 Suggested Match:\")\n",
    "    st.write(response[\"result\"])\n",
    "\n",
    "    st.markdown(\"### 📂 Matched Resumes:\")\n",
    "    for i, doc in enumerate(response[\"source_documents\"]):\n",
    "        st.markdown(f\"**{i+1}. Candidate:** `{doc.metadata.get('candidate_name')}`\")\n",
    "        with st.expander(\"📄 Snippet\"):\n",
    "            st.write(doc.page_content.strip())"
   ]
  }
 ],
 "metadata": {
  "kernelspec": {
   "display_name": "Python 3 (ipykernel)",
   "language": "python",
   "name": "python3"
  },
  "language_info": {
   "codemirror_mode": {
    "name": "ipython",
    "version": 3
   },
   "file_extension": ".py",
   "mimetype": "text/x-python",
   "name": "python",
   "nbconvert_exporter": "python",
   "pygments_lexer": "ipython3",
   "version": "3.11.11"
  }
 },
 "nbformat": 4,
 "nbformat_minor": 5
}
