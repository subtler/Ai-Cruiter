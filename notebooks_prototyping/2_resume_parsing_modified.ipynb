{
 "cells": [
  {
   "cell_type": "code",
   "execution_count": 44,
   "id": "74787a83-4295-40a7-ba9c-23ed0c4aa3a3",
   "metadata": {},
   "outputs": [],
   "source": [
    "with open('../data/parsed_output/sample_resume.txt', 'r', encoding='utf-8') as f:\n",
    "    resume_text = f.read()"
   ]
  },
  {
   "cell_type": "markdown",
   "id": "45700107-26e4-48d3-bd6c-de0c3c14cb0c",
   "metadata": {},
   "source": [
    "## Block 0: Import Dependencies"
   ]
  },
  {
   "cell_type": "code",
   "execution_count": 51,
   "id": "17f36a29-f2da-4b2a-b666-f28e0823e6de",
   "metadata": {},
   "outputs": [],
   "source": [
    "import re\n",
    "import spacy\n",
    "from transformers import pipeline\n",
    "from collections import Counter\n",
    "import pandas as pd"
   ]
  },
  {
   "cell_type": "markdown",
   "id": "65d3f180-85f5-41b1-8035-627ab9c42bfe",
   "metadata": {},
   "source": [
    "## Block 1: Load spaCy NLP Model"
   ]
  },
  {
   "cell_type": "code",
   "execution_count": 46,
   "id": "53dd8ae4-43a7-49e3-bd48-5a01a251510a",
   "metadata": {},
   "outputs": [],
   "source": [
    "nlp = spacy.load(\"en_core_web_sm\")"
   ]
  },
  {
   "cell_type": "markdown",
   "id": "4e7f7911-a80a-48dc-8cf0-3a7b32884138",
   "metadata": {},
   "source": [
    "## Block 2A: Extract Email"
   ]
  },
  {
   "cell_type": "code",
   "execution_count": 47,
   "id": "0d93761f-21a9-43d6-99a9-92dc9e9b7632",
   "metadata": {},
   "outputs": [
    {
     "name": "stdout",
     "output_type": "stream",
     "text": [
      "[]\n"
     ]
    }
   ],
   "source": [
    "def extract_email(text):\n",
    "    \"\"\"\n",
    "    Returns the first email address found in the text using regex.\n",
    "    \"\"\"\n",
    "    match = re.search(r'[\\w\\.-]+@[\\w\\.-]+\\.\\w+', text)\n",
    "    return match.group(0) if match else None\n",
    "print(re.findall(r'[\\w\\.-]+@[\\w\\.-]+\\.\\w+', resume_text))"
   ]
  },
  {
   "cell_type": "markdown",
   "id": "c5a3af17-eb97-4cef-ac79-a7a9507278f6",
   "metadata": {},
   "source": [
    "## Block 2B: Extract Phone Number"
   ]
  },
  {
   "cell_type": "code",
   "execution_count": 52,
   "id": "81778c4d-e987-4f63-a421-91d5bff754aa",
   "metadata": {},
   "outputs": [],
   "source": [
    "def extract_phone(text):\n",
    "    matches = re.findall(r'\\+?\\d[\\d\\-\\(\\) ]{7,}\\d', text)\n",
    "    \n",
    "    for number in matches:\n",
    "        if not any(year in number for year in ['2003', '2008', '1996', '1997']):\n",
    "            digits = re.sub(r'\\D', '', number)\n",
    "            if 10 <= len(digits) <= 13:\n",
    "                return number\n",
    "    return None"
   ]
  },
  {
   "cell_type": "markdown",
   "id": "39a7e3d6-d9c5-4ce4-ac8e-fd2adf524f5d",
   "metadata": {},
   "source": [
    "## Block 2C: Extract Name (NER)"
   ]
  },
  {
   "cell_type": "code",
   "execution_count": 53,
   "id": "88e88363-8902-4fa6-924f-da25d9949e71",
   "metadata": {},
   "outputs": [],
   "source": [
    "def extract_name(text):\n",
    "    doc = nlp(text)\n",
    "    for ent in doc.ents:\n",
    "        if ent.label_ == \"PERSON\":\n",
    "            if ent.text.lower() not in ['accomplishments created', 'accomplishments']:\n",
    "                if 2 <= len(ent.text.split()) <= 3:\n",
    "                    return ent.text\n",
    "    return None"
   ]
  },
  {
   "cell_type": "markdown",
   "id": "b0ebb52e-9d45-4acb-9a74-0758608e1622",
   "metadata": {},
   "source": [
    "## Block 2D: Extract Skills (from list)"
   ]
  },
  {
   "cell_type": "code",
   "execution_count": 40,
   "id": "948ab2e3-5f01-44cc-85cd-64cc6c732cf3",
   "metadata": {},
   "outputs": [],
   "source": [
    "# Example skill list – expand this based on your domain\n",
    "SKILL_KEYWORDS = [\n",
    "    \"python\", \"machine learning\", \"data analysis\", \"excel\", \"sql\", \"nlp\",\n",
    "    \"deep learning\", \"keras\", \"pytorch\", \"communication\", \"teaching\"\n",
    "]\n",
    "\n",
    "def extract_skills(text):\n",
    "    \"\"\"\n",
    "    Matches lowercase keywords from the skill list found in the resume text.\n",
    "    \"\"\"\n",
    "    text_lower = text.lower()\n",
    "    found_skills = [skill for skill in SKILL_KEYWORDS if skill in text_lower]\n",
    "    return list(set(found_skills))"
   ]
  },
  {
   "cell_type": "markdown",
   "id": "33777df2-c933-4ef0-afa5-1b007a01a3a0",
   "metadata": {},
   "source": [
    "## Block 3: Run All Extraction Functions"
   ]
  },
  {
   "cell_type": "code",
   "execution_count": 41,
   "id": "105889be-97d8-4164-9a35-d0bdcf27d6d9",
   "metadata": {},
   "outputs": [
    {
     "data": {
      "text/html": [
       "<div>\n",
       "<style scoped>\n",
       "    .dataframe tbody tr th:only-of-type {\n",
       "        vertical-align: middle;\n",
       "    }\n",
       "\n",
       "    .dataframe tbody tr th {\n",
       "        vertical-align: top;\n",
       "    }\n",
       "\n",
       "    .dataframe thead th {\n",
       "        text-align: right;\n",
       "    }\n",
       "</style>\n",
       "<table border=\"1\" class=\"dataframe\">\n",
       "  <thead>\n",
       "    <tr style=\"text-align: right;\">\n",
       "      <th></th>\n",
       "      <th>Name</th>\n",
       "      <th>Email</th>\n",
       "      <th>Phone</th>\n",
       "      <th>Skills</th>\n",
       "    </tr>\n",
       "  </thead>\n",
       "  <tbody>\n",
       "    <tr>\n",
       "      <th>0</th>\n",
       "      <td>Accomplishments Created</td>\n",
       "      <td>None</td>\n",
       "      <td>None</td>\n",
       "      <td>[communication, excel]</td>\n",
       "    </tr>\n",
       "  </tbody>\n",
       "</table>\n",
       "</div>"
      ],
      "text/plain": [
       "                      Name Email Phone                  Skills\n",
       "0  Accomplishments Created  None  None  [communication, excel]"
      ]
     },
     "execution_count": 41,
     "metadata": {},
     "output_type": "execute_result"
    }
   ],
   "source": [
    "# Load the extracted resume text saved from Notebook 1\n",
    "with open('../data/parsed_output/sample_resume.txt', 'r', encoding='utf-8') as f:\n",
    "    resume_text = f.read()\n",
    "\n",
    "# Run all parsing functions\n",
    "parsed_data = {\n",
    "    \"Name\": extract_name(resume_text),\n",
    "    \"Email\": extract_email(resume_text),\n",
    "    \"Phone\": extract_phone(resume_text),\n",
    "    \"Skills\": extract_skills(resume_text)\n",
    "}\n",
    "\n",
    "# Display output neatly\n",
    "import pandas as pd\n",
    "pd.DataFrame([parsed_data])"
   ]
  },
  {
   "cell_type": "code",
   "execution_count": null,
   "id": "78d6a59d-9164-46c8-9df9-1dc3d0305948",
   "metadata": {},
   "outputs": [],
   "source": []
  },
  {
   "cell_type": "code",
   "execution_count": null,
   "id": "a42a4514-7cfb-42dd-bd43-69280a533a87",
   "metadata": {},
   "outputs": [],
   "source": []
  },
  {
   "cell_type": "code",
   "execution_count": null,
   "id": "19f80ed3-b8a2-448e-9cce-f6d8cfa6c20f",
   "metadata": {},
   "outputs": [],
   "source": []
  },
  {
   "cell_type": "code",
   "execution_count": null,
   "id": "672c6425-f0bf-49c6-8f30-29c39119ccf1",
   "metadata": {},
   "outputs": [],
   "source": []
  }
 ],
 "metadata": {
  "kernelspec": {
   "display_name": "Python 3 (ipykernel)",
   "language": "python",
   "name": "python3"
  },
  "language_info": {
   "codemirror_mode": {
    "name": "ipython",
    "version": 3
   },
   "file_extension": ".py",
   "mimetype": "text/x-python",
   "name": "python",
   "nbconvert_exporter": "python",
   "pygments_lexer": "ipython3",
   "version": "3.11.11"
  }
 },
 "nbformat": 4,
 "nbformat_minor": 5
}
